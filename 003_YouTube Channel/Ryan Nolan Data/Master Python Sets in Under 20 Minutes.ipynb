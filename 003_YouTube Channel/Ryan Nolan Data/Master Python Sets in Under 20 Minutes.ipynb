{
 "cells": [
  {
   "cell_type": "code",
   "execution_count": 1,
   "id": "61ccf186-abea-4aad-9c5a-7ec92743660f",
   "metadata": {},
   "outputs": [],
   "source": [
    "set1 = {1, 3, 4}"
   ]
  },
  {
   "cell_type": "code",
   "execution_count": 2,
   "id": "5c14ced1-c5dc-4ef5-b44b-8c966c03cd10",
   "metadata": {},
   "outputs": [],
   "source": [
    "set2 = {1, 3, 4, 1, 4}"
   ]
  },
  {
   "cell_type": "code",
   "execution_count": 3,
   "id": "7d8b89ce-fb05-4de4-a6ca-48efa9d4f861",
   "metadata": {},
   "outputs": [
    {
     "name": "stdout",
     "output_type": "stream",
     "text": [
      "{1, 3, 4}\n"
     ]
    }
   ],
   "source": [
    "print(set2)"
   ]
  },
  {
   "cell_type": "code",
   "execution_count": 4,
   "id": "1ac55fe6-ad39-44c5-93bf-a2b9795b8d82",
   "metadata": {},
   "outputs": [],
   "source": [
    "set2a = {1, 3, 4, True, 4}"
   ]
  },
  {
   "cell_type": "code",
   "execution_count": 5,
   "id": "8711b957-e745-4d77-86b7-eb4319146e14",
   "metadata": {},
   "outputs": [
    {
     "data": {
      "text/plain": [
       "{1, 3, 4}"
      ]
     },
     "execution_count": 5,
     "metadata": {},
     "output_type": "execute_result"
    }
   ],
   "source": [
    "set2a"
   ]
  },
  {
   "cell_type": "code",
   "execution_count": 6,
   "id": "da39dd3c-68a3-4003-9432-b5f32156de5c",
   "metadata": {},
   "outputs": [],
   "source": [
    "set3 = {1, \"Baseball\", \"Nolan\", 1, 4}"
   ]
  },
  {
   "cell_type": "code",
   "execution_count": 7,
   "id": "8ea3016e-5cbb-4e8b-9de9-b2263fa952ec",
   "metadata": {},
   "outputs": [
    {
     "data": {
      "text/plain": [
       "{1, 4, 'Baseball', 'Nolan'}"
      ]
     },
     "execution_count": 7,
     "metadata": {},
     "output_type": "execute_result"
    }
   ],
   "source": [
    "set3"
   ]
  },
  {
   "cell_type": "code",
   "execution_count": 8,
   "id": "8756256d-2553-48f6-9853-495407376ae9",
   "metadata": {},
   "outputs": [
    {
     "data": {
      "text/plain": [
       "4"
      ]
     },
     "execution_count": 8,
     "metadata": {},
     "output_type": "execute_result"
    }
   ],
   "source": [
    "len(set3)"
   ]
  },
  {
   "cell_type": "code",
   "execution_count": 9,
   "id": "99b2894c-d8b4-4916-869f-f989b01a4129",
   "metadata": {},
   "outputs": [],
   "source": [
    "#add to set\n",
    "set3.add(\"Baseball\")"
   ]
  },
  {
   "cell_type": "code",
   "execution_count": 10,
   "id": "32c01508-1021-4296-88ec-8c43a0ce5eb0",
   "metadata": {},
   "outputs": [
    {
     "data": {
      "text/plain": [
       "{1, 4, 'Baseball', 'Nolan'}"
      ]
     },
     "execution_count": 10,
     "metadata": {},
     "output_type": "execute_result"
    }
   ],
   "source": [
    "set3"
   ]
  },
  {
   "cell_type": "code",
   "execution_count": 11,
   "id": "714adda8-8216-41d9-abee-33f11daec99c",
   "metadata": {},
   "outputs": [],
   "source": [
    "#remove"
   ]
  },
  {
   "cell_type": "code",
   "execution_count": 12,
   "id": "4b0cbaed-c3ef-4aaa-9d11-e9747e7c807e",
   "metadata": {},
   "outputs": [],
   "source": [
    "set3.remove(\"Baseball\")"
   ]
  },
  {
   "cell_type": "code",
   "execution_count": 13,
   "id": "b8691114-c520-4987-a179-d0580b9bca14",
   "metadata": {},
   "outputs": [],
   "source": [
    "# Error set3.remove(\"Baseball\")"
   ]
  },
  {
   "cell_type": "code",
   "execution_count": 14,
   "id": "bd54e14a-3a16-4e64-8080-8ca5fe422d5e",
   "metadata": {},
   "outputs": [],
   "source": [
    "set3.discard('Nolan')"
   ]
  },
  {
   "cell_type": "code",
   "execution_count": 15,
   "id": "7b84f836-a147-403e-83d7-078b78b75bbb",
   "metadata": {},
   "outputs": [],
   "source": [
    "set3.discard('Nolan')"
   ]
  },
  {
   "cell_type": "code",
   "execution_count": 16,
   "id": "ee59b508-835d-4be8-a71a-ec4992651af6",
   "metadata": {},
   "outputs": [],
   "source": [
    "set3.discard('Nolan')"
   ]
  },
  {
   "cell_type": "code",
   "execution_count": 17,
   "id": "30ffd346-a1a7-424e-b149-c1df367d26cd",
   "metadata": {},
   "outputs": [
    {
     "data": {
      "text/plain": [
       "{1, 4}"
      ]
     },
     "execution_count": 17,
     "metadata": {},
     "output_type": "execute_result"
    }
   ],
   "source": [
    "set3"
   ]
  },
  {
   "cell_type": "code",
   "execution_count": 18,
   "id": "ebd2e38a-dda1-4c19-8bbc-186827d44c8a",
   "metadata": {},
   "outputs": [],
   "source": [
    "set3.clear()"
   ]
  },
  {
   "cell_type": "code",
   "execution_count": 19,
   "id": "7ae4f737-6173-4bcc-bd69-ba48fcaf8880",
   "metadata": {},
   "outputs": [
    {
     "data": {
      "text/plain": [
       "set()"
      ]
     },
     "execution_count": 19,
     "metadata": {},
     "output_type": "execute_result"
    }
   ],
   "source": [
    "set3"
   ]
  },
  {
   "cell_type": "code",
   "execution_count": 20,
   "id": "83535edd-7a08-4368-a722-19c5bc6f9dc7",
   "metadata": {},
   "outputs": [],
   "source": [
    "emptyset = set()"
   ]
  },
  {
   "cell_type": "code",
   "execution_count": 21,
   "id": "7cd8c9e7-9362-4daf-ae3a-fd9fda20ea08",
   "metadata": {},
   "outputs": [
    {
     "data": {
      "text/plain": [
       "set()"
      ]
     },
     "execution_count": 21,
     "metadata": {},
     "output_type": "execute_result"
    }
   ],
   "source": [
    "emptyset"
   ]
  },
  {
   "cell_type": "code",
   "execution_count": 22,
   "id": "1d30be82-694f-4a5c-bcd4-dc530c4f4e8a",
   "metadata": {},
   "outputs": [],
   "source": [
    "set2 = {1, 3, 4, 1, 4}\n",
    "set3 = {1, \"Baseball\", \"Nolan\", 1, 4}"
   ]
  },
  {
   "cell_type": "code",
   "execution_count": 23,
   "id": "cc599d57-3ba6-4976-aa01-c542937b007c",
   "metadata": {},
   "outputs": [],
   "source": [
    "union1 = set3.union(set2)"
   ]
  },
  {
   "cell_type": "code",
   "execution_count": 24,
   "id": "4d093c59-e136-4ac0-8620-da4d4b2d05fc",
   "metadata": {},
   "outputs": [
    {
     "data": {
      "text/plain": [
       "{1, 3, 4, 'Baseball', 'Nolan'}"
      ]
     },
     "execution_count": 24,
     "metadata": {},
     "output_type": "execute_result"
    }
   ],
   "source": [
    "union1"
   ]
  },
  {
   "cell_type": "code",
   "execution_count": 25,
   "id": "6057dc33-72ff-45d4-855e-a4b1968fd3ab",
   "metadata": {},
   "outputs": [],
   "source": [
    "union2 = set3 | set2"
   ]
  },
  {
   "cell_type": "code",
   "execution_count": 26,
   "id": "53dd580d-13fa-4ec6-9dd7-e56797497bc2",
   "metadata": {},
   "outputs": [
    {
     "data": {
      "text/plain": [
       "{1, 3, 4, 'Baseball', 'Nolan'}"
      ]
     },
     "execution_count": 26,
     "metadata": {},
     "output_type": "execute_result"
    }
   ],
   "source": [
    "union2"
   ]
  },
  {
   "cell_type": "code",
   "execution_count": 27,
   "id": "5aa2a664-0d65-41fa-9912-50a44031b7db",
   "metadata": {},
   "outputs": [],
   "source": [
    "intersection1 = set3.intersection(set2)"
   ]
  },
  {
   "cell_type": "code",
   "execution_count": 28,
   "id": "0b40d8d8-5496-49cb-9639-c0be03deede4",
   "metadata": {},
   "outputs": [
    {
     "data": {
      "text/plain": [
       "{1, 4}"
      ]
     },
     "execution_count": 28,
     "metadata": {},
     "output_type": "execute_result"
    }
   ],
   "source": [
    "intersection1"
   ]
  },
  {
   "cell_type": "code",
   "execution_count": 29,
   "id": "c86d773e-fc94-4bca-9577-118e30599297",
   "metadata": {},
   "outputs": [],
   "source": [
    "intersection2 = set3 & set2"
   ]
  },
  {
   "cell_type": "code",
   "execution_count": 30,
   "id": "d46bec2e-a1ed-4b02-a51f-b228e0900a37",
   "metadata": {},
   "outputs": [
    {
     "data": {
      "text/plain": [
       "{1, 4}"
      ]
     },
     "execution_count": 30,
     "metadata": {},
     "output_type": "execute_result"
    }
   ],
   "source": [
    "intersection2"
   ]
  },
  {
   "cell_type": "code",
   "execution_count": 31,
   "id": "85a52924-f1cd-4edc-92aa-3370b1cebf58",
   "metadata": {},
   "outputs": [],
   "source": [
    "difference1 = set3.difference(set2)"
   ]
  },
  {
   "cell_type": "code",
   "execution_count": 32,
   "id": "5626f2dd-ca2f-4f25-92db-9faee450e58d",
   "metadata": {},
   "outputs": [
    {
     "data": {
      "text/plain": [
       "{'Baseball', 'Nolan'}"
      ]
     },
     "execution_count": 32,
     "metadata": {},
     "output_type": "execute_result"
    }
   ],
   "source": [
    "difference1"
   ]
  },
  {
   "cell_type": "code",
   "execution_count": 33,
   "id": "cdd0536d-eb59-40c5-a177-9667c9f559f3",
   "metadata": {},
   "outputs": [],
   "source": [
    "difference2 = set2.difference(set3)"
   ]
  },
  {
   "cell_type": "code",
   "execution_count": 34,
   "id": "17171d78-4222-4684-a587-bd1560480fad",
   "metadata": {},
   "outputs": [
    {
     "data": {
      "text/plain": [
       "{3}"
      ]
     },
     "execution_count": 34,
     "metadata": {},
     "output_type": "execute_result"
    }
   ],
   "source": [
    "difference2"
   ]
  },
  {
   "cell_type": "code",
   "execution_count": 35,
   "id": "f652bdbe-65d6-4078-94f6-d257a43cb227",
   "metadata": {},
   "outputs": [],
   "source": [
    "difference1a = set3 - set2"
   ]
  },
  {
   "cell_type": "code",
   "execution_count": 36,
   "id": "6e1a9c6f-112a-4492-aaa1-4e64ce7854e9",
   "metadata": {},
   "outputs": [
    {
     "data": {
      "text/plain": [
       "{'Baseball', 'Nolan'}"
      ]
     },
     "execution_count": 36,
     "metadata": {},
     "output_type": "execute_result"
    }
   ],
   "source": [
    "difference1a"
   ]
  },
  {
   "cell_type": "code",
   "execution_count": 37,
   "id": "895b594b-a472-44e7-be46-04765e1ebb9a",
   "metadata": {},
   "outputs": [],
   "source": [
    "mul1 = {1, 11, 7}\n",
    "mul2 = {6, 11, 7}\n",
    "mul3 = {13, 11 ,9}"
   ]
  },
  {
   "cell_type": "code",
   "execution_count": 38,
   "id": "23a26add-37e2-48a1-9b79-64bb3a6af73b",
   "metadata": {},
   "outputs": [],
   "source": [
    "mul_test = mul1 & mul2 & mul3"
   ]
  },
  {
   "cell_type": "code",
   "execution_count": 39,
   "id": "bda51540-4cf8-458a-842f-2dc5824fe048",
   "metadata": {},
   "outputs": [
    {
     "data": {
      "text/plain": [
       "{11}"
      ]
     },
     "execution_count": 39,
     "metadata": {},
     "output_type": "execute_result"
    }
   ],
   "source": [
    "mul_test"
   ]
  },
  {
   "cell_type": "code",
   "execution_count": 40,
   "id": "8d4003f5-85a2-4704-8153-b9ad6c7ac916",
   "metadata": {},
   "outputs": [],
   "source": [
    "mul_test2 = mul1 | mul2 | mul3"
   ]
  },
  {
   "cell_type": "code",
   "execution_count": 41,
   "id": "29a25217-b164-48ce-895f-4605429a35a7",
   "metadata": {},
   "outputs": [
    {
     "data": {
      "text/plain": [
       "{1, 6, 7, 9, 11, 13}"
      ]
     },
     "execution_count": 41,
     "metadata": {},
     "output_type": "execute_result"
    }
   ],
   "source": [
    "mul_test2"
   ]
  },
  {
   "cell_type": "code",
   "execution_count": 42,
   "id": "21c3ee09-9931-47ed-8c6e-359f8dc86a7b",
   "metadata": {},
   "outputs": [],
   "source": [
    "mul_test3 = mul1 | mul2 & mul3"
   ]
  },
  {
   "cell_type": "code",
   "execution_count": 43,
   "id": "9f12f7aa-bc30-4b33-8cf7-c74a6ceda68a",
   "metadata": {},
   "outputs": [
    {
     "data": {
      "text/plain": [
       "{1, 7, 11}"
      ]
     },
     "execution_count": 43,
     "metadata": {},
     "output_type": "execute_result"
    }
   ],
   "source": [
    "mul_test3"
   ]
  },
  {
   "cell_type": "code",
   "execution_count": 44,
   "id": "7325d6d0-bd62-40b0-86f5-f7ba1bab2431",
   "metadata": {},
   "outputs": [
    {
     "data": {
      "text/plain": [
       "{1, 7, 11}"
      ]
     },
     "execution_count": 44,
     "metadata": {},
     "output_type": "execute_result"
    }
   ],
   "source": [
    "mul1 | (mul2 & mul3)"
   ]
  },
  {
   "cell_type": "code",
   "execution_count": 45,
   "id": "42ad6596-af94-4852-9da9-92ac52ad3628",
   "metadata": {},
   "outputs": [
    {
     "data": {
      "text/plain": [
       "True"
      ]
     },
     "execution_count": 45,
     "metadata": {},
     "output_type": "execute_result"
    }
   ],
   "source": [
    "11 in mul_test"
   ]
  },
  {
   "cell_type": "code",
   "execution_count": 46,
   "id": "1cc59589-2020-49b9-8218-9a829f183718",
   "metadata": {},
   "outputs": [
    {
     "data": {
      "text/plain": [
       "True"
      ]
     },
     "execution_count": 46,
     "metadata": {},
     "output_type": "execute_result"
    }
   ],
   "source": [
    "23 not in mul_test"
   ]
  },
  {
   "cell_type": "code",
   "execution_count": 47,
   "id": "aadad481-f537-46bc-a710-2d29f0f4f0a8",
   "metadata": {},
   "outputs": [],
   "source": [
    "set1 = {11, 12, 5}\n",
    "set2 = {6, 8, 4}\n",
    "set3 = {6, 8, 4, 11, 11}"
   ]
  },
  {
   "cell_type": "code",
   "execution_count": 48,
   "id": "56652ba5-df90-4feb-9240-b3b6c28bb3ee",
   "metadata": {},
   "outputs": [
    {
     "data": {
      "text/plain": [
       "True"
      ]
     },
     "execution_count": 48,
     "metadata": {},
     "output_type": "execute_result"
    }
   ],
   "source": [
    "set1.isdisjoint(set2)"
   ]
  },
  {
   "cell_type": "code",
   "execution_count": 49,
   "id": "d7db0ece-4a18-453c-ac09-1dbaef5a3bcc",
   "metadata": {},
   "outputs": [
    {
     "data": {
      "text/plain": [
       "False"
      ]
     },
     "execution_count": 49,
     "metadata": {},
     "output_type": "execute_result"
    }
   ],
   "source": [
    "set2.isdisjoint(set3)"
   ]
  },
  {
   "cell_type": "code",
   "execution_count": 50,
   "id": "4fc1b7ac-cbfe-4237-ae79-f4d3fc72c198",
   "metadata": {},
   "outputs": [
    {
     "data": {
      "text/plain": [
       "True"
      ]
     },
     "execution_count": 50,
     "metadata": {},
     "output_type": "execute_result"
    }
   ],
   "source": [
    "set2.issubset(set3)"
   ]
  },
  {
   "cell_type": "code",
   "execution_count": 51,
   "id": "7a4e8f34-56dd-4bc8-8a72-b0de8e166e8d",
   "metadata": {},
   "outputs": [
    {
     "data": {
      "text/plain": [
       "True"
      ]
     },
     "execution_count": 51,
     "metadata": {},
     "output_type": "execute_result"
    }
   ],
   "source": [
    "set3.issuperset(set2)"
   ]
  },
  {
   "cell_type": "code",
   "execution_count": 104,
   "id": "962c7019-435a-40ee-9b5c-13fdd8959d3d",
   "metadata": {},
   "outputs": [],
   "source": [
    "#loops"
   ]
  },
  {
   "cell_type": "code",
   "execution_count": 112,
   "id": "7016b0e2-0bf9-4230-96ec-1f5e90dd469b",
   "metadata": {},
   "outputs": [],
   "source": [
    "hof_pitchers = {\n",
    "    'Seaver',\n",
    "    'John',\n",
    "    'Ryan',\n",
    "    'Maddux',\n",
    "    'Martinez',\n",
    "}"
   ]
  },
  {
   "cell_type": "code",
   "execution_count": 114,
   "id": "44469b90-896c-4776-ae48-d51283931acd",
   "metadata": {},
   "outputs": [
    {
     "name": "stdout",
     "output_type": "stream",
     "text": [
      "Martinez\n",
      "Maddux\n",
      "Ryan\n",
      "John\n",
      "Seaver\n"
     ]
    }
   ],
   "source": [
    "for pitcher in hof_pitchers:\n",
    "    print(pitcher)"
   ]
  },
  {
   "cell_type": "code",
   "execution_count": 116,
   "id": "1297b2bd-895d-4b07-b7b4-594d10f624e9",
   "metadata": {},
   "outputs": [],
   "source": [
    "#Error hof_pitchers[2]"
   ]
  },
  {
   "cell_type": "code",
   "execution_count": 118,
   "id": "e612ca85-1546-4036-b2de-38db1cf3af91",
   "metadata": {},
   "outputs": [],
   "source": [
    "pitcher_list = list(hof_pitchers)"
   ]
  },
  {
   "cell_type": "code",
   "execution_count": 120,
   "id": "0c32bdf8-7fa4-4aab-907c-1c65423ec29b",
   "metadata": {},
   "outputs": [
    {
     "data": {
      "text/plain": [
       "'Seaver'"
      ]
     },
     "execution_count": 120,
     "metadata": {},
     "output_type": "execute_result"
    }
   ],
   "source": [
    "pitcher_list[4]"
   ]
  },
  {
   "cell_type": "code",
   "execution_count": 126,
   "id": "0678a81a-6cac-426d-85c9-03059fa0d1b8",
   "metadata": {},
   "outputs": [
    {
     "data": {
      "text/plain": [
       "['Martinez', 'Maddux', 'Ryan', 'John', 'Seaver']"
      ]
     },
     "execution_count": 126,
     "metadata": {},
     "output_type": "execute_result"
    }
   ],
   "source": [
    "[test for test in hof_pitchers]"
   ]
  },
  {
   "cell_type": "code",
   "execution_count": 128,
   "id": "7bf6a9c1-7eb8-42be-b95b-64529da11d1a",
   "metadata": {},
   "outputs": [
    {
     "data": {
      "text/plain": [
       "['Martinez', 'Maddux', 'Ryan', 'John', 'Seaver']"
      ]
     },
     "execution_count": 128,
     "metadata": {},
     "output_type": "execute_result"
    }
   ],
   "source": [
    "[test for test in pitcher_list]"
   ]
  }
 ],
 "metadata": {
  "kernelspec": {
   "display_name": "Python 3 (ipykernel)",
   "language": "python",
   "name": "python3"
  },
  "language_info": {
   "codemirror_mode": {
    "name": "ipython",
    "version": 3
   },
   "file_extension": ".py",
   "mimetype": "text/x-python",
   "name": "python",
   "nbconvert_exporter": "python",
   "pygments_lexer": "ipython3",
   "version": "3.11.7"
  }
 },
 "nbformat": 4,
 "nbformat_minor": 5
}
